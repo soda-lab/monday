{
 "cells": [
  {
   "cell_type": "markdown",
   "metadata": {},
   "source": [
    "# Monday.com Timesheet Aggregated Version\n",
    "-------"
   ]
  },
  {
   "cell_type": "markdown",
   "metadata": {},
   "source": [
    "# Import Libraries"
   ]
  },
  {
   "cell_type": "code",
   "execution_count": null,
   "metadata": {},
   "outputs": [],
   "source": [
    "import requests\n",
    "import json\n",
    "import csv\n",
    "from monday import MondayClient\n",
    "import openpyxl\n",
    "from openpyxl.styles import Font, Alignment, Border, Side, PatternFill\n",
    "import datetime\n",
    "from datetime import timedelta\n",
    "import time\n",
    "import warnings\n",
    "warnings.filterwarnings(\"ignore\")"
   ]
  },
  {
   "cell_type": "code",
   "execution_count": null,
   "metadata": {},
   "outputs": [],
   "source": [
    "import configparser \n",
    "config = configparser.ConfigParser()\n",
    "config.read('config.ini')\n",
    "api_key = config['DEFAULT']['API-Key']\n",
    "timesheet_date = config['DEFAULT']['Timesheet-Date']\n",
    "board_ids = config['DEFAULT']['Board-ID-List']\n",
    "date = config['DEFAULT']['Current-Date']\n",
    "time_difference = config['DEFAULT']['Time-Difference']\n",
    "change_status = config['DEFAULT']['Change-Status']"
   ]
  },
  {
   "cell_type": "markdown",
   "metadata": {},
   "source": [
    "# Supporting Functions"
   ]
  },
  {
   "cell_type": "code",
   "execution_count": null,
   "metadata": {},
   "outputs": [],
   "source": [
    "def digit_or_dot(s):\n",
    "    return all(c.isdigit() or c == '.' for c in s)"
   ]
  },
  {
   "cell_type": "code",
   "execution_count": null,
   "metadata": {},
   "outputs": [],
   "source": [
    "def get_congif_info(person):\n",
    "    surname = config[person]['Surname']\n",
    "    given_names = config[person]['Given-Names']\n",
    "    employee_number = config[person]['Employee-Number']\n",
    "    dob = config[person]['Date-Of-Birth']\n",
    "    phone_number = config[person]['Phone-Number']\n",
    "    rate = config[person]['Rate']\n",
    "    pay_code = config[person]['Pay-Code']\n",
    "    \n",
    "    return surname,given_names,employee_number,dob,phone_number,rate,pay_code"
   ]
  },
  {
   "cell_type": "code",
   "execution_count": null,
   "metadata": {},
   "outputs": [],
   "source": [
    "def create_cell(column, text, align):\n",
    "    sheet[\"{}{}\".format(column,row_num)] = text\n",
    "    sheet[\"{}{}\".format(column,row_num)].font = table_font\n",
    "    sheet[\"{}{}\".format(column,row_num)].border = thin_full_border\n",
    "    if align == 1:\n",
    "        sheet[\"{}{}\".format(column,row_num)].alignment = Alignment(wrap_text = True, horizontal='center', vertical='center')\n",
    "    else:\n",
    "        sheet[\"{}{}\".format(column,row_num)].alignment = Alignment(wrap_text = True, vertical='center')"
   ]
  },
  {
   "cell_type": "code",
   "execution_count": null,
   "metadata": {},
   "outputs": [],
   "source": [
    "def insert_new_row(row_num):\n",
    "    sheet.insert_rows(row_num)\n",
    "    for col in range(1,12):\n",
    "        sheet.row_dimensions[row_num].height = 25\n",
    "        sheet.cell(row=row_num, column=col).border = thin_full_border\n",
    "        sheet.cell(row=row_num, column=col).fill = grey_fill"
   ]
  },
  {
   "cell_type": "markdown",
   "metadata": {},
   "source": [
    "# Get Person List & Project Code List"
   ]
  },
  {
   "cell_type": "code",
   "execution_count": null,
   "metadata": {},
   "outputs": [],
   "source": [
    "person_list = []\n",
    "project_code_list = {}\n",
    "for s in config.sections():\n",
    "    if digit_or_dot(s):\n",
    "        project_code_list[s] = {}\n",
    "    else:\n",
    "        person_list.append(s)"
   ]
  },
  {
   "cell_type": "code",
   "execution_count": null,
   "metadata": {},
   "outputs": [],
   "source": [
    "for pc in project_code_list:\n",
    "    project_code_list[pc][\"name\"] = config[pc]['Name']\n",
    "    project_code_list[pc][\"department_name\"] = config[pc]['Department-Name']\n",
    "    project_code_list[pc][\"phone\"] = config[pc]['Phone']\n",
    "    project_code_list[pc][\"date\"] = config[pc]['Date']\n",
    "    project_code_list[pc][\"subject_code\"] = config[pc]['Subject-Code']\n",
    "    project_code_list[pc][\"board_ids\"] = []"
   ]
  },
  {
   "cell_type": "markdown",
   "metadata": {},
   "source": [
    "# Connect To Monday.com"
   ]
  },
  {
   "cell_type": "code",
   "execution_count": null,
   "metadata": {},
   "outputs": [],
   "source": [
    "apiUrl = \"https://api.monday.com/v2\"\n",
    "headers = {\"Authorization\" : api_key}\n",
    "monday = MondayClient(api_key)"
   ]
  },
  {
   "cell_type": "markdown",
   "metadata": {},
   "source": [
    "# Get Board ID List"
   ]
  },
  {
   "cell_type": "code",
   "execution_count": null,
   "metadata": {},
   "outputs": [],
   "source": [
    "board_id_list = []\n",
    "if board_ids:\n",
    "    for b in board_ids.split(\",\"):\n",
    "        board_id_list.append(b)\n",
    "else:\n",
    "    query = '{ boards {id}}'\n",
    "    data = {'query' : query}\n",
    "    r = requests.post(url=apiUrl, json=data, headers=headers)\n",
    "    for bd in r.json()[\"data\"][\"boards\"]:\n",
    "        board_id_list.append(bd[\"id\"])"
   ]
  },
  {
   "cell_type": "markdown",
   "metadata": {},
   "source": [
    "# Get Board.Group As Prefix For Job ID"
   ]
  },
  {
   "cell_type": "code",
   "execution_count": null,
   "metadata": {},
   "outputs": [],
   "source": [
    "group_item_dict = {}\n",
    "\n",
    "for board_id in board_id_list:\n",
    "    board_query = '{{boards (ids: {}){{description name groups{{id}}}}}}'.format(board_id)\n",
    "    board_data = {'query' : board_query}\n",
    "    board_result = requests.post(url=apiUrl, json=board_data, headers=headers)\n",
    "    \n",
    "    board_name = board_result.json()[\"data\"][\"boards\"][0][\"name\"]\n",
    "    board_project_code = board_result.json()[\"data\"][\"boards\"][0][\"description\"].split(\"\\n\")[0].split(\": \")[1]\n",
    "        \n",
    "    project_code_list[board_project_code][\"board_ids\"].append(board_id)\n",
    "    \n",
    "    for g in board_result.json()[\"data\"][\"boards\"][0][\"groups\"]:\n",
    "        group_query = '{{boards (ids: {}){{groups(ids: {}) {{title items {{id}}}}}}}}'.format(board_id,g[\"id\"])\n",
    "        group_data = {'query' : group_query}\n",
    "        group_result = requests.post(url=apiUrl, json=group_data, headers=headers)\n",
    "        group_title = group_result.json()[\"data\"][\"boards\"][0][\"groups\"][0][\"title\"]\n",
    "        for i in group_result.json()[\"data\"][\"boards\"][0][\"groups\"][0][\"items\"]:\n",
    "            group_item_dict[i[\"id\"]] = [board_name,group_title]"
   ]
  },
  {
   "cell_type": "markdown",
   "metadata": {},
   "source": [
    "# Setup Border & Font & Color"
   ]
  },
  {
   "cell_type": "code",
   "execution_count": null,
   "metadata": {},
   "outputs": [],
   "source": [
    "thin_full_border = Border(left=Side(style='thin'), \n",
    "                     right=Side(style='thin'), \n",
    "                     top=Side(style='thin'), \n",
    "                     bottom=Side(style='thin'))\n",
    "\n",
    "thin_top_bot_border = Border(top=Side(style='thin'), \n",
    "                     bottom=Side(style='thin'))\n",
    "\n",
    "grey_fill = PatternFill(start_color='F2F2F2',\n",
    "                   end_color='F2F2F2',\n",
    "                   fill_type='solid')\n",
    "\n",
    "table_font = Font(name='Open Sans', size=11)\n",
    "\n",
    "table_font_authen = Font(bold=True,name='Open Sans', size=12)"
   ]
  },
  {
   "cell_type": "markdown",
   "metadata": {},
   "source": [
    "# Create Timesheet"
   ]
  },
  {
   "cell_type": "code",
   "execution_count": null,
   "metadata": {},
   "outputs": [],
   "source": [
    "datetimeFormat = '%Y-%m-%dT%H:%M:%SZ'\n",
    "\n",
    "for p in person_list:\n",
    "    for pc in project_code_list:\n",
    "        workday_time_dict = {}\n",
    "        if p.replace(\" \",\"_\") in config[pc]:\n",
    "            position_id,primary_position = config[pc][p.replace(\" \",\"_\")].split(\",\")\n",
    "            surname,given_names,employee_number,dob,phone_number,rate,pay_code = get_congif_info(p)\n",
    "            \n",
    "            # read template excel\n",
    "            workbook = openpyxl.load_workbook('template.xlsx')\n",
    "            sheet = workbook[\"Timesheet Loader Template\"]\n",
    "            \n",
    "            # add tasks from Monday.com\n",
    "            row_num = 6\n",
    "            \n",
    "            for b in project_code_list[pc][\"board_ids\"]:\n",
    "                query = '{{items_by_column_values (board_id :{}, column_id: \"status\", column_value:\"{}\"){{id name column_values{{text title value}}}}}}'.format(b, \"Waiting for timesheet\")\n",
    "                data = {'query' : query}\n",
    "                \n",
    "                r = requests.post(url=apiUrl, json=data, headers=headers) # make request\n",
    "                \n",
    "                for v in r.json()[\"data\"][\"items_by_column_values\"]:\n",
    "                    job_number = v[\"id\"]\n",
    "                    ignore = 1\n",
    "\n",
    "                    # check if person in the group\n",
    "                    for cv in v[\"column_values\"]:\n",
    "                        if cv[\"title\"] == \"Person\":\n",
    "                            # only group \"meeting\" OR \"meetings\" allows multiple people\n",
    "                            if group_item_dict[job_number][1].lower() in {\"meeting\",\"meetings\"}:\n",
    "                                if p in cv[\"text\"]:\n",
    "                                    ignore = 0\n",
    "                                else:\n",
    "                                    ignore = 1\n",
    "                                    continue\n",
    "                            else:\n",
    "                                if \",\" in cv[\"text\"]:\n",
    "                                    print(\"----------------------------------\")\n",
    "                                    print(\"Error Group Name / Job Number: {} / {}\".format(group_item_dict[job_number][1],job_number))\n",
    "                                    print(\"Assigned to persons: {}\".format(cv[\"text\"]))\n",
    "                                    print(\"Error : multiple persons are assigned to same task & it is not under meeting(s)\")\n",
    "                                    continue\n",
    "                                else:\n",
    "                                    if cv[\"text\"] == p:\n",
    "                                        ignore = 0\n",
    "                                    else:\n",
    "                                        ignore = 1\n",
    "                                        continue\n",
    "\n",
    "                    if ignore == 0:\n",
    "                        for cv in v[\"column_values\"]:\n",
    "                            if cv[\"title\"] == \"Time Tracking\":\n",
    "                                time_tracking = cv[\"text\"]\n",
    "                                if time_tracking == \"\":\n",
    "                                    time_used = 0\n",
    "                                else:\n",
    "                                    for av in json.loads(cv[\"value\"])[\"additional_value\"]:\n",
    "                                        # convert date string to datetime\n",
    "                                        start_at = datetime.datetime.strptime(av[\"started_at\"], datetimeFormat)\n",
    "                                        end_at = datetime.datetime.strptime(av[\"ended_at\"], datetimeFormat)\n",
    "\n",
    "                                        # change to correct time zone\n",
    "                                        start_at += datetime.timedelta(hours=int(time_difference))\n",
    "                                        end_at += datetime.timedelta(hours=int(time_difference))\n",
    "\n",
    "                                        work_day = str(end_at)[:10]\n",
    "\n",
    "                                        # calculate time range\n",
    "                                        diff = end_at - start_at\n",
    "                                        time_used = round(diff.seconds/3600, 2)\n",
    "\n",
    "                                        # aggregate by work day\n",
    "                                        if work_day in workday_time_dict:\n",
    "                                            workday_time_dict[work_day] += time_used\n",
    "                                        else:\n",
    "                                            workday_time_dict[work_day] = time_used\n",
    "                        \n",
    "                        if check_status:\n",
    "                            # change status to \"Done\"\n",
    "                            monday.items.change_item_value(b, int(v[\"id\"]), \"status\", {\"index\": 1})\n",
    "\n",
    "                        # add timesheet created date\n",
    "                        monday.items.change_item_value(b, int(v[\"id\"]), \"date7\", {\"date\":timesheet_date})\n",
    "                    else:\n",
    "                        continue\n",
    "            \n",
    "            subject_code = project_code_list[pc][\"subject_code\"]\n",
    "            \n",
    "            if check_status:\n",
    "                if len(workday_time_dict) > 0:\n",
    "                    for workday in sorted(workday_time_dict):\n",
    "\n",
    "                        # insert new rows\n",
    "                        if row_num > 6:\n",
    "                            insert_new_row(row_num)\n",
    "\n",
    "                        row_list = [surname, given_names, employee_number, position_id, primary_position, workday, pay_code, workday_time_dict[workday], rate, pc, subject_code]\n",
    "\n",
    "                        for col, val in enumerate(row_list, start=1):\n",
    "                            sheet.cell(row=row_num, column=col).value = val\n",
    "                            sheet.cell(row=row_num, column=col).font = table_font\n",
    "                            sheet.cell(row=row_num, column=col).alignment = Alignment(wrap_text = True, vertical='center')\n",
    "\n",
    "                        row_num += 1\n",
    "\n",
    "                    # add_personal_info\n",
    "                    sheet.row_dimensions[row_num].height = 25\n",
    "                    sheet[\"A{}\".format(row_num)] = \"AUTHORISATION:\"\n",
    "                    sheet[\"A{}\".format(row_num)].font = table_font_authen\n",
    "                    sheet[\"A{}\".format(row_num)].alignment = Alignment(wrap_text = True, vertical='center')\n",
    "                    sheet[\"A{}\".format(row_num)].border = thin_top_bot_border\n",
    "                    sheet.merge_cells('A{}:K{}'.format(row_num,row_num))\n",
    "\n",
    "                    row_num += 1\n",
    "                    sheet.row_dimensions[row_num].height = 25\n",
    "                    sheet[\"A{}\".format(row_num)] = \"Claimant:\"\n",
    "                    sheet[\"A{}\".format(row_num)].font = table_font_authen\n",
    "                    sheet[\"A{}\".format(row_num)].border = thin_full_border\n",
    "                    sheet[\"A{}\".format(row_num)].alignment = Alignment(wrap_text = True, vertical='center')\n",
    "                    sheet.merge_cells('A{}:K{}'.format(row_num,row_num))\n",
    "\n",
    "                    row_num += 1\n",
    "                    sheet.row_dimensions[row_num].height = 25\n",
    "                    create_cell(\"A\", \"Name:\", 0)\n",
    "\n",
    "                    create_cell(\"B\", \"{} {}\".format(given_names, surname), 1)\n",
    "                    sheet.merge_cells('B{}:G{}'.format(row_num,row_num))\n",
    "\n",
    "                    create_cell(\"H\", \"Name:\", 0)\n",
    "                    create_cell(\"I\", project_code_list[pc][\"name\"], 1)\n",
    "                    create_cell(\"J\", \"Department Name:\", 0)\n",
    "                    create_cell(\"K\", project_code_list[pc][\"department_name\"], 1)\n",
    "\n",
    "                    row_num += 1\n",
    "                    sheet.row_dimensions[row_num].height = 25\n",
    "                    create_cell(\"A\", \"Phone:\", 0)\n",
    "\n",
    "                    create_cell(\"B\", phone_number, 1)\n",
    "                    sheet.merge_cells('B{}:C{}'.format(row_num,row_num))\n",
    "\n",
    "                    create_cell(\"D\", \"Date:\", 0)\n",
    "\n",
    "                    create_cell(\"E\", date, 1)\n",
    "                    sheet.merge_cells('E{}:G{}'.format(row_num,row_num))\n",
    "\n",
    "                    create_cell(\"H\", \"Phone:\", 0)\n",
    "                    create_cell(\"I\", project_code_list[pc][\"phone\"], 1)\n",
    "                    create_cell(\"J\", \"Date:\", 0)\n",
    "                    create_cell(\"K\", project_code_list[pc][\"date\"], 1)\n",
    "\n",
    "                    #save changes in excel\n",
    "                    workbook.save(filename=\"{}_{}_{}({}).xlsx\".format(given_names,surname,timesheet_date.replace('-','_'),pc))\n",
    "                    time.sleep(5)\n",
    "                else:\n",
    "                    continue\n",
    "            else:\n",
    "                continue"
   ]
  },
  {
   "cell_type": "code",
   "execution_count": null,
   "metadata": {},
   "outputs": [],
   "source": []
  }
 ],
 "metadata": {
  "kernelspec": {
   "display_name": "Python 3",
   "language": "python",
   "name": "python3"
  },
  "language_info": {
   "codemirror_mode": {
    "name": "ipython",
    "version": 3
   },
   "file_extension": ".py",
   "mimetype": "text/x-python",
   "name": "python",
   "nbconvert_exporter": "python",
   "pygments_lexer": "ipython3",
   "version": "3.6.6"
  },
  "toc": {
   "base_numbering": 1,
   "nav_menu": {},
   "number_sections": true,
   "sideBar": true,
   "skip_h1_title": false,
   "title_cell": "Table of Contents",
   "title_sidebar": "Contents",
   "toc_cell": false,
   "toc_position": {},
   "toc_section_display": true,
   "toc_window_display": false
  },
  "varInspector": {
   "cols": {
    "lenName": 16,
    "lenType": 16,
    "lenVar": 40
   },
   "kernels_config": {
    "python": {
     "delete_cmd_postfix": "",
     "delete_cmd_prefix": "del ",
     "library": "var_list.py",
     "varRefreshCmd": "print(var_dic_list())"
    },
    "r": {
     "delete_cmd_postfix": ") ",
     "delete_cmd_prefix": "rm(",
     "library": "var_list.r",
     "varRefreshCmd": "cat(var_dic_list()) "
    }
   },
   "types_to_exclude": [
    "module",
    "function",
    "builtin_function_or_method",
    "instance",
    "_Feature"
   ],
   "window_display": false
  }
 },
 "nbformat": 4,
 "nbformat_minor": 2
}

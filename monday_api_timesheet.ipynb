{
 "cells": [
  {
   "cell_type": "markdown",
   "metadata": {},
   "source": [
    "# Monday.com Timesheet\n",
    "-------"
   ]
  },
  {
   "cell_type": "markdown",
   "metadata": {},
   "source": [
    "# Import Libraries"
   ]
  },
  {
   "cell_type": "code",
   "execution_count": 1,
   "metadata": {},
   "outputs": [],
   "source": [
    "import requests\n",
    "import json\n",
    "import csv\n",
    "import openpyxl\n",
    "from openpyxl import Workbook\n",
    "from openpyxl import load_workbook\n",
    "from openpyxl.drawing.image import Image\n",
    "from openpyxl.styles import Font, Alignment, Border, Side, PatternFill\n",
    "from PIL import Image\n",
    "from monday import MondayClient"
   ]
  },
  {
   "cell_type": "markdown",
   "metadata": {},
   "source": [
    "# Read Config File"
   ]
  },
  {
   "cell_type": "code",
   "execution_count": 2,
   "metadata": {},
   "outputs": [],
   "source": [
    "import configparser \n",
    "config = configparser.ConfigParser()\n",
    "config.read('config.ini')\n",
    "api_key = config['DEFAULT']['API-Key']\n",
    "timesheet_date = config['DEFAULT']['Timesheet-Date']\n",
    "board_ids = config['DEFAULT']['Board-ID-List']\n",
    "rate = config['DEFAULT']['Rate']\n",
    "pay_code = config['DEFAULT']['Pay-Code']\n",
    "subject_code = config['DEFAULT']['Subject-Code']\n",
    "date = config['DEFAULT']['Current-Date']\n",
    "# get section names\n",
    "person_list = config.sections()"
   ]
  },
  {
   "cell_type": "markdown",
   "metadata": {},
   "source": [
    "# Supporting Functions"
   ]
  },
  {
   "cell_type": "code",
   "execution_count": 3,
   "metadata": {},
   "outputs": [],
   "source": [
    "def get_congif_info(person):\n",
    "    surname = config[person]['Surname']\n",
    "    given_names = config[person]['Given-Names']\n",
    "    employee_number = config[person]['Employee-Number']\n",
    "    account_code = config[person]['Account-Code']\n",
    "    dob = config[person]['Date-Of-Birth']\n",
    "    phone_number = config[person]['Phone-Number']\n",
    "    \n",
    "    return surname,given_names,employee_number,account_code,dob,phone_number"
   ]
  },
  {
   "cell_type": "code",
   "execution_count": 4,
   "metadata": {},
   "outputs": [],
   "source": [
    "def create_cell(column, text, align):\n",
    "    sheet[\"{}{}\".format(column,row_num)] = text\n",
    "    sheet[\"{}{}\".format(column,row_num)].font = table_font\n",
    "    sheet[\"{}{}\".format(column,row_num)].border = thin_full_border\n",
    "    if align == 1:\n",
    "        sheet[\"{}{}\".format(column,row_num)].alignment = Alignment(wrap_text = True, horizontal='center', vertical='center')\n",
    "    else:\n",
    "        sheet[\"{}{}\".format(column,row_num)].alignment = Alignment(wrap_text = True, vertical='center')"
   ]
  },
  {
   "cell_type": "code",
   "execution_count": 5,
   "metadata": {},
   "outputs": [],
   "source": [
    "def create_excel():\n",
    "    workbook = Workbook()\n",
    "    sheet = workbook.active\n",
    "    \n",
    "    return workbook,sheet"
   ]
  },
  {
   "cell_type": "code",
   "execution_count": 6,
   "metadata": {},
   "outputs": [],
   "source": [
    "def set_column_width(sheet):\n",
    "    sheet.column_dimensions['A'].width = 14\n",
    "    sheet.column_dimensions['B'].width = 15.17\n",
    "    sheet.column_dimensions['C'].width = 14\n",
    "    sheet.column_dimensions['D'].width = 40\n",
    "    sheet.column_dimensions['E'].width = 17.17\n",
    "    sheet.column_dimensions['F'].width = 11.5\n",
    "    sheet.column_dimensions['G'].width = 19.67\n",
    "    sheet.column_dimensions['H'].width = 21.83\n",
    "    sheet.column_dimensions['I'].width = 28.5\n",
    "    sheet.column_dimensions['J'].width = 24.33"
   ]
  },
  {
   "cell_type": "code",
   "execution_count": 7,
   "metadata": {},
   "outputs": [],
   "source": [
    "def add_logo(sheet):\n",
    "    width = 88\n",
    "    height = 182\n",
    "\n",
    "    img = Image.open('timesheet_logo.png')\n",
    "    img = img.resize((width,height),Image.NEAREST)\n",
    "    img.save('timesheet_logo.png')\n",
    "\n",
    "    img = openpyxl.drawing.image.Image('timesheet_logo.png')\n",
    "    sheet.add_image(img,'A1')"
   ]
  },
  {
   "cell_type": "code",
   "execution_count": 8,
   "metadata": {},
   "outputs": [],
   "source": [
    "def add_timesheet_info(sheet):\n",
    "    sheet[\"B1\"] = \"Timesheet Sessional Academic Staff\"\n",
    "    sheet[\"B1\"].font = Font(bold=True, underline=\"single\", name='Arial', size=16)\n",
    "\n",
    "    sheet[\"B2\"] = \"  Please  Note : \"\n",
    "    sheet[\"B2\"].font = Font(bold=True, underline=\"single\", name='Calibri (Body)', size=12)\n",
    "\n",
    "    sheet[\"B3\"] = \"\"\"\n",
    "    • This timesheet is used for sessional academic staff who work as Research Assistants, Project work or Claims that fall outside usual teaching activities logged via sessional Teaching /Marking spreadsheets.  \n",
    "    • Please do not print out this T5 form, type in your timesheet details in this spreadsheet and save as “name.xlsx” file, attach it in your staff email and send to your supervisor for approval.\n",
    "    • Timesheet excel format files are to be submitted from your Swinburne staff email account to your Department Administrator/Managers for appropriate approvals by no later than 5pm Tuesday.\n",
    "    • Administrators/ Managers must email submit this approved Timesheets with the text in the subject: THE ATTACHED TIMESHEET IS APPROVED to fpp_sessionals@swin.edu.au by Wednesday 12 noon immediately following fortnight end date.  Please refer to paydates and deadline tab of this spreadsheet.\n",
    "    • Please fill out the correct employee number and job number failure to do that will cause the incorrect payment. Please refer to Help Notes tab of this spreadsheet or contact payroll for any queries about how to fill out this timesheet. \n",
    "    \"\"\"\n",
    "    sheet[\"B3\"].font = Font(name='Calibri (Body)', size=12)\n",
    "    sheet[\"B3\"].alignment = Alignment(wrap_text = True)\n",
    "    sheet.row_dimensions[3].height = 125\n",
    "\n",
    "    sheet.merge_cells('B3:J3')"
   ]
  },
  {
   "cell_type": "code",
   "execution_count": 9,
   "metadata": {},
   "outputs": [],
   "source": [
    "def add_column_names(sheet):\n",
    "    column_names = [\"Surname\", \"Given Names\", \"Employee Number\", \"JOB Number\", \"Date\", \"Pay Code\", \"Total Hours (exc.meal break)\", \"Rate\", \"Account Code\", \"Subject Code\"]\n",
    "\n",
    "    for col, val in enumerate(column_names, start=1):\n",
    "        sheet.cell(row=4, column=col).value = val\n",
    "        sheet.cell(row=4, column=col).border = thin_full_border\n",
    "        sheet.cell(row=4, column=col).font = Font(bold=True, name='Calibri (Body)', size=14)\n",
    "        sheet.cell(row=4, column=col).alignment = Alignment(wrap_text = True, horizontal='center', vertical='center')"
   ]
  },
  {
   "cell_type": "markdown",
   "metadata": {},
   "source": [
    "# Connect To Monday.com"
   ]
  },
  {
   "cell_type": "code",
   "execution_count": 10,
   "metadata": {},
   "outputs": [],
   "source": [
    "apiUrl = \"https://api.monday.com/v2\"\n",
    "headers = {\"Authorization\" : api_key}\n",
    "monday = MondayClient(api_key)"
   ]
  },
  {
   "cell_type": "markdown",
   "metadata": {},
   "source": [
    "# Get Board ID List"
   ]
  },
  {
   "cell_type": "code",
   "execution_count": 11,
   "metadata": {},
   "outputs": [],
   "source": [
    "board_id_list = []\n",
    "if board_ids:\n",
    "    for b in board_ids.split(\",\"):\n",
    "        board_id_list.append(b)\n",
    "else:\n",
    "    query = '{ boards {id}}'\n",
    "    data = {'query' : query}\n",
    "    r = requests.post(url=apiUrl, json=data, headers=headers)\n",
    "    for bd in r.json()[\"data\"][\"boards\"]:\n",
    "        board_id_list.append(bd[\"id\"])"
   ]
  },
  {
   "cell_type": "markdown",
   "metadata": {},
   "source": [
    "# Get Board.Group As Prefix For Job ID"
   ]
  },
  {
   "cell_type": "code",
   "execution_count": 12,
   "metadata": {},
   "outputs": [],
   "source": [
    "group_item_dict = {}\n",
    "for board_id in board_id_list:\n",
    "    board_query = '{{boards (ids: {}){{name groups{{id}}}}}}'.format(board_id)\n",
    "    board_data = {'query' : board_query}\n",
    "    board_result = requests.post(url=apiUrl, json=board_data, headers=headers)\n",
    "    \n",
    "    board_name = board_result.json()[\"data\"][\"boards\"][0][\"name\"]\n",
    "    \n",
    "    for g in board_result.json()[\"data\"][\"boards\"][0][\"groups\"]:\n",
    "        group_query = '{{boards (ids: {}){{groups(ids: {}) {{title items {{id}}}}}}}}'.format(board_id,g[\"id\"])\n",
    "        group_data = {'query' : group_query}\n",
    "        group_result = requests.post(url=apiUrl, json=group_data, headers=headers)\n",
    "        group_title = group_result.json()[\"data\"][\"boards\"][0][\"groups\"][0][\"title\"]\n",
    "        for i in group_result.json()[\"data\"][\"boards\"][0][\"groups\"][0][\"items\"]:\n",
    "            group_item_dict[i[\"id\"]] = \"{}.{}\".format(board_name,group_title)"
   ]
  },
  {
   "cell_type": "markdown",
   "metadata": {},
   "source": [
    "# Setup Border & Font & Color"
   ]
  },
  {
   "cell_type": "code",
   "execution_count": 13,
   "metadata": {},
   "outputs": [],
   "source": [
    "thin_full_border = Border(left=Side(style='thin'), \n",
    "                     right=Side(style='thin'), \n",
    "                     top=Side(style='thin'), \n",
    "                     bottom=Side(style='thin'))\n",
    "\n",
    "thin_top_bot_border = Border(top=Side(style='thin'), \n",
    "                     bottom=Side(style='thin'))\n",
    "\n",
    "grey_fill = PatternFill(start_color='F2F2F2',\n",
    "                   end_color='F2F2F2',\n",
    "                   fill_type='solid')\n",
    "\n",
    "table_font = Font(bold=True, name='Arial', size=12)"
   ]
  },
  {
   "cell_type": "markdown",
   "metadata": {},
   "source": [
    "# Create Timesheet"
   ]
  },
  {
   "cell_type": "code",
   "execution_count": 14,
   "metadata": {},
   "outputs": [],
   "source": [
    "for p in person_list:\n",
    "    surname,given_names,employee_number,account_code,dob,phone_number = get_congif_info(p)\n",
    "    # create new excel\n",
    "    workbook,sheet = create_excel()\n",
    "    \n",
    "    set_column_width(sheet)\n",
    "    add_logo(sheet)\n",
    "    add_timesheet_info(sheet)\n",
    "    add_column_names(sheet)\n",
    "    \n",
    "    # add tasks from Monday.com\n",
    "    row_num = 5\n",
    "    \n",
    "    for b in board_id_list:\n",
    "        query = '{{items_by_column_values (board_id :{}, column_id: \"date7\", column_value:\"{}\"){{id column_values{{text title}}}}}}'.format(b, timesheet_date)\n",
    "        data = {'query' : query}\n",
    "        \n",
    "        r = requests.post(url=apiUrl, json=data, headers=headers) # make request\n",
    "        \n",
    "        for v in r.json()[\"data\"][\"items_by_column_values\"]:\n",
    "            job_number = \"{}.{}\".format(group_item_dict[v[\"id\"]],v[\"id\"])\n",
    "            ignore = 1\n",
    "            for cv in v[\"column_values\"]:\n",
    "                if cv[\"title\"] == \"Person\":\n",
    "                    if cv[\"text\"] == p:\n",
    "                        ignore = 0\n",
    "            if ignore == 0:\n",
    "                for cv in v[\"column_values\"]:\n",
    "                    if cv[\"title\"] == \"Work Day\":\n",
    "                        work_day = cv[\"text\"]\n",
    "                    if cv[\"title\"] == \"Time Tracking\":\n",
    "                        time_tracking = cv[\"text\"]\n",
    "                        if time_tracking == \"\":\n",
    "                            time_used = 0\n",
    "                        else:\n",
    "                            hour = int(time_tracking.split(\":\")[0])\n",
    "                            minute = round(int(time_tracking.split(\":\")[1])/60, 2)\n",
    "                            time_used = hour + minute\n",
    "                    if cv[\"title\"] == \"Status\":\n",
    "                        if cv[\"text\"] == \"Waiting for timesheet\":\n",
    "                            monday.items.change_item_value(b, int(v[\"id\"]), \"status\", {\"index\": 1})\n",
    "\n",
    "                row_list = [surname, given_names, employee_number, job_number, work_day, pay_code, time_used, rate, account_code, subject_code]\n",
    "                sheet.row_dimensions[row_num].height = 25\n",
    "\n",
    "                for col, val in enumerate(row_list, start=1):\n",
    "                    sheet.cell(row=row_num, column=col).value = val\n",
    "                    sheet.cell(row=row_num, column=col).border = thin_full_border\n",
    "                    sheet.cell(row=row_num, column=col).fill = grey_fill\n",
    "\n",
    "                row_num += 1\n",
    "                \n",
    "    # add_personal_info\n",
    "    sheet[\"A{}\".format(row_num)] = \"AUTHORISATION:\"\n",
    "    sheet[\"A{}\".format(row_num)].font = table_font\n",
    "    sheet[\"A{}\".format(row_num)].border = thin_top_bot_border\n",
    "    sheet.merge_cells('A{}:J{}'.format(row_num,row_num))\n",
    "\n",
    "    row_num += 2\n",
    "    sheet.row_dimensions[row_num].height = 25\n",
    "    sheet[\"A{}\".format(row_num)] = \"Claimant:\"\n",
    "    sheet[\"A{}\".format(row_num)].font = table_font\n",
    "    sheet[\"A{}\".format(row_num)].border = thin_top_bot_border\n",
    "    sheet[\"A{}\".format(row_num)].alignment = Alignment(wrap_text = True, vertical='center')\n",
    "    sheet.merge_cells('A{}:J{}'.format(row_num,row_num))\n",
    "\n",
    "    row_num += 1\n",
    "    sheet.row_dimensions[row_num].height = 25\n",
    "    create_cell(\"A\", \"Name:\", 0)\n",
    "\n",
    "    create_cell(\"B\", \"{} {}\".format(given_names, surname), 1)\n",
    "    sheet.merge_cells('B{}:C{}'.format(row_num,row_num))\n",
    "\n",
    "    create_cell(\"D\", \"DOB:\", 0)\n",
    "\n",
    "    create_cell(\"E\", dob, 1)\n",
    "    sheet.merge_cells('E{}:F{}'.format(row_num,row_num))\n",
    "\n",
    "    create_cell(\"G\", \"Name:\", 0)\n",
    "    create_cell(\"H\", \"\", 1)\n",
    "    create_cell(\"I\", \"Department Name:\", 0)\n",
    "    create_cell(\"J\", \"\", 1)\n",
    "\n",
    "    row_num += 1\n",
    "    sheet.row_dimensions[row_num].height = 25\n",
    "    create_cell(\"A\", \"Phone:\", 0)\n",
    "\n",
    "    create_cell(\"B\", phone_number, 1)\n",
    "    sheet.merge_cells('B{}:C{}'.format(row_num,row_num))\n",
    "\n",
    "    create_cell(\"D\", \"Date:\", 0)\n",
    "\n",
    "    create_cell(\"E\", date, 1)\n",
    "    sheet.merge_cells('E{}:F{}'.format(row_num,row_num))\n",
    "\n",
    "    create_cell(\"G\", \"Phone:\", 0)\n",
    "    create_cell(\"H\", \"\", 1)\n",
    "    create_cell(\"I\", \"Date:\", 0)\n",
    "    create_cell(\"J\", \"\", 1)\n",
    "    #save changes in excel\n",
    "    workbook.save(filename=\"{}_{}_{}.xlsx\".format(given_names,surname,timesheet_date.replace('-','_')))"
   ]
  },
  {
   "cell_type": "code",
   "execution_count": null,
   "metadata": {},
   "outputs": [],
   "source": []
  }
 ],
 "metadata": {
  "kernelspec": {
   "display_name": "Python 3",
   "language": "python",
   "name": "python3"
  },
  "language_info": {
   "codemirror_mode": {
    "name": "ipython",
    "version": 3
   },
   "file_extension": ".py",
   "mimetype": "text/x-python",
   "name": "python",
   "nbconvert_exporter": "python",
   "pygments_lexer": "ipython3",
   "version": "3.6.6"
  }
 },
 "nbformat": 4,
 "nbformat_minor": 2
}

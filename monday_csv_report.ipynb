{
 "cells": [
  {
   "cell_type": "markdown",
   "metadata": {},
   "source": [
    "# Create Monday.com Report\n",
    "-------"
   ]
  },
  {
   "cell_type": "markdown",
   "metadata": {},
   "source": [
    "# Import Libraries"
   ]
  },
  {
   "cell_type": "code",
   "execution_count": null,
   "metadata": {},
   "outputs": [],
   "source": [
    "import requests\n",
    "import json\n",
    "import csv\n",
    "from monday import MondayClient\n",
    "import datetime\n",
    "from datetime import timedelta\n",
    "import time"
   ]
  },
  {
   "cell_type": "code",
   "execution_count": null,
   "metadata": {},
   "outputs": [],
   "source": [
    "import configparser \n",
    "config = configparser.ConfigParser()\n",
    "config.read('config.ini')\n",
    "api_key = config['DEFAULT']['API-Key']\n",
    "board_ids = config['DEFAULT']['Board-ID-List']\n",
    "time_difference = config['DEFAULT']['Time-Difference']"
   ]
  },
  {
   "cell_type": "markdown",
   "metadata": {},
   "source": [
    "# Supporting Functions"
   ]
  },
  {
   "cell_type": "code",
   "execution_count": null,
   "metadata": {},
   "outputs": [],
   "source": [
    "def write_csv(output_file,row, mode):\n",
    "    with open(output_file, mode, newline='') as csvfile:\n",
    "        csvwriter = csv.writer(csvfile, quoting=csv.QUOTE_MINIMAL)\n",
    "        csvwriter.writerow(row)"
   ]
  },
  {
   "cell_type": "markdown",
   "metadata": {},
   "source": [
    "# Connect To Monday.com"
   ]
  },
  {
   "cell_type": "code",
   "execution_count": null,
   "metadata": {},
   "outputs": [],
   "source": [
    "apiUrl = \"https://api.monday.com/v2\"\n",
    "headers = {\"Authorization\" : api_key}\n",
    "monday = MondayClient(api_key)"
   ]
  },
  {
   "cell_type": "markdown",
   "metadata": {},
   "source": [
    "# Get Board ID List"
   ]
  },
  {
   "cell_type": "code",
   "execution_count": null,
   "metadata": {},
   "outputs": [],
   "source": [
    "board_id_list = []\n",
    "if board_ids:\n",
    "    for b in board_ids.split(\",\"):\n",
    "        board_id_list.append(b)\n",
    "else:\n",
    "    query = '{ boards {id}}'\n",
    "    data = {'query' : query}\n",
    "    r = requests.post(url=apiUrl, json=data, headers=headers)\n",
    "    for bd in r.json()[\"data\"][\"boards\"]:\n",
    "        board_id_list.append(bd[\"id\"])"
   ]
  },
  {
   "cell_type": "markdown",
   "metadata": {},
   "source": [
    "# Get Board.Group As Prefix For Job ID"
   ]
  },
  {
   "cell_type": "code",
   "execution_count": null,
   "metadata": {
    "scrolled": true
   },
   "outputs": [],
   "source": [
    "group_item_dict = {}\n",
    "board_project_code_dict = {}\n",
    "\n",
    "for board_id in board_id_list:\n",
    "    board_query = '{{boards (ids: {}){{description name groups{{id}}}}}}'.format(board_id)\n",
    "    board_data = {'query' : board_query}\n",
    "    board_result = requests.post(url=apiUrl, json=board_data, headers=headers)\n",
    "    \n",
    "    project_code = board_result.json()[\"data\"][\"boards\"][0][\"description\"].split(\": \")[1]\n",
    "    board_project_code_dict[board_id] = project_code\n",
    "    \n",
    "    board_name = board_result.json()[\"data\"][\"boards\"][0][\"name\"]\n",
    "    for g in board_result.json()[\"data\"][\"boards\"][0][\"groups\"]:\n",
    "        group_query = '{{boards (ids: {}){{groups(ids: {}) {{title items {{id}}}}}}}}'.format(board_id,g[\"id\"])\n",
    "        group_data = {'query' : group_query}\n",
    "        group_result = requests.post(url=apiUrl, json=group_data, headers=headers)\n",
    "        group_title = group_result.json()[\"data\"][\"boards\"][0][\"groups\"][0][\"title\"]\n",
    "        for i in group_result.json()[\"data\"][\"boards\"][0][\"groups\"][0][\"items\"]:\n",
    "            group_item_dict[i[\"id\"]] = [board_name,group_title]"
   ]
  },
  {
   "cell_type": "markdown",
   "metadata": {},
   "source": [
    "# Create End Of Year Report"
   ]
  },
  {
   "cell_type": "code",
   "execution_count": null,
   "metadata": {},
   "outputs": [],
   "source": [
    "column_name = [\"Staff Name\", \"Board Name\", \"Project Code\", \"Group Name\", \"Timesheet Date\", \"Week Number\", \"Time tracking (hrs)\"]\n",
    "write_csv('monday_report.csv',column_name,\"w\")"
   ]
  },
  {
   "cell_type": "code",
   "execution_count": null,
   "metadata": {},
   "outputs": [],
   "source": [
    "datetimeFormat = '%Y-%m-%dT%H:%M:%SZ'\n",
    "\n",
    "for b in board_id_list:\n",
    "    group_name_person_time_dict = {}\n",
    "    \n",
    "    query = '{{items_by_column_values (board_id :{}, column_id: \"status\", column_value:\"{}\"){{id name column_values{{text title value}}}}}}'.format(b, \"Timesheet Created\")\n",
    "    data = {'query' : query}\n",
    "    r = requests.post(url=apiUrl, json=data, headers=headers)\n",
    "    \n",
    "    for v in r.json()[\"data\"][\"items_by_column_values\"]:\n",
    "        if v[\"id\"] in group_item_dict:\n",
    "            board_name = group_item_dict[v[\"id\"]][0]\n",
    "            group_name = group_item_dict[v[\"id\"]][1]\n",
    "\n",
    "        for cv in v[\"column_values\"]:\n",
    "            if cv[\"title\"] == \"Time Tracking\":\n",
    "                time_tracking = cv[\"text\"]\n",
    "                time_used = 0\n",
    "                if time_tracking != \"\":\n",
    "                    for av in json.loads(cv[\"value\"])[\"additional_value\"]:\n",
    "                        # convert date string to datetime\n",
    "                        start_at = datetime.datetime.strptime(av[\"started_at\"], datetimeFormat)\n",
    "                        end_at = datetime.datetime.strptime(av[\"ended_at\"], datetimeFormat)\n",
    "\n",
    "                        # change to correct time zone\n",
    "                        start_at += datetime.timedelta(hours=int(time_difference))\n",
    "                        end_at += datetime.timedelta(hours=int(time_difference))\n",
    "\n",
    "                        work_day = str(end_at)[:10]\n",
    "\n",
    "                        # calculate time range\n",
    "                        diff = end_at - start_at\n",
    "                        time_used += round(diff.seconds/3600, 2)\n",
    "\n",
    "            if cv[\"title\"] == \"Timesheet date\":\n",
    "                timesheet_date = cv[\"text\"]\n",
    "                \n",
    "            if cv[\"title\"] == \"Person\":\n",
    "                person = cv[\"text\"]\n",
    "        \n",
    "        if timesheet_date:\n",
    "            for p in person.split(\", \"):\n",
    "                if group_name in group_name_person_time_dict:\n",
    "                    if p in group_name_person_time_dict[group_name]:\n",
    "                        if timesheet_date in group_name_person_time_dict[group_name][p]:\n",
    "                            group_name_person_time_dict[group_name][p][timesheet_date] += time_used\n",
    "                        else:\n",
    "                            group_name_person_time_dict[group_name][p][timesheet_date] = {}\n",
    "                            group_name_person_time_dict[group_name][p][timesheet_date] = time_used\n",
    "                    else:\n",
    "                        group_name_person_time_dict[group_name][p] = {}\n",
    "                        group_name_person_time_dict[group_name][p][timesheet_date] = {}\n",
    "                        group_name_person_time_dict[group_name][p][timesheet_date] = time_used\n",
    "                else:\n",
    "                    group_name_person_time_dict[group_name] = {}\n",
    "                    group_name_person_time_dict[group_name][p] = {}\n",
    "                    group_name_person_time_dict[group_name][p][timesheet_date] = {}\n",
    "                    group_name_person_time_dict[group_name][p][timesheet_date] = time_used\n",
    "    \n",
    "    for group_name in group_name_person_time_dict:\n",
    "        for person in group_name_person_time_dict[group_name]:\n",
    "            for timesheet_date in group_name_person_time_dict[group_name][person]:\n",
    "                week_number = datetime.date(int(timesheet_date[:4]), int(timesheet_date[5:7]), int(timesheet_date[-2:])).isocalendar()[1]\n",
    "                row = [person,board_name,board_project_code_dict[b], group_name, timesheet_date, week_number, group_name_person_time_dict[group_name][person][timesheet_date]]\n",
    "                write_csv(\"monday_report.csv\",row,\"a+\")"
   ]
  },
  {
   "cell_type": "code",
   "execution_count": null,
   "metadata": {},
   "outputs": [],
   "source": []
  }
 ],
 "metadata": {
  "kernelspec": {
   "display_name": "Python 3",
   "language": "python",
   "name": "python3"
  },
  "language_info": {
   "codemirror_mode": {
    "name": "ipython",
    "version": 3
   },
   "file_extension": ".py",
   "mimetype": "text/x-python",
   "name": "python",
   "nbconvert_exporter": "python",
   "pygments_lexer": "ipython3",
   "version": "3.6.6"
  },
  "toc": {
   "base_numbering": 1,
   "nav_menu": {},
   "number_sections": true,
   "sideBar": true,
   "skip_h1_title": false,
   "title_cell": "Table of Contents",
   "title_sidebar": "Contents",
   "toc_cell": false,
   "toc_position": {},
   "toc_section_display": true,
   "toc_window_display": false
  },
  "varInspector": {
   "cols": {
    "lenName": 16,
    "lenType": 16,
    "lenVar": 40
   },
   "kernels_config": {
    "python": {
     "delete_cmd_postfix": "",
     "delete_cmd_prefix": "del ",
     "library": "var_list.py",
     "varRefreshCmd": "print(var_dic_list())"
    },
    "r": {
     "delete_cmd_postfix": ") ",
     "delete_cmd_prefix": "rm(",
     "library": "var_list.r",
     "varRefreshCmd": "cat(var_dic_list()) "
    }
   },
   "types_to_exclude": [
    "module",
    "function",
    "builtin_function_or_method",
    "instance",
    "_Feature"
   ],
   "window_display": false
  }
 },
 "nbformat": 4,
 "nbformat_minor": 2
}

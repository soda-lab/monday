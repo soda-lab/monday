{
 "cells": [
  {
   "cell_type": "code",
   "execution_count": 1,
   "metadata": {},
   "outputs": [],
   "source": [
    "import requests\n",
    "import json\n",
    "import csv\n",
    "import openpyxl\n",
    "from openpyxl import Workbook\n",
    "from openpyxl import load_workbook\n",
    "from openpyxl.drawing.image import Image\n",
    "from openpyxl.styles import Font, Alignment, Border, Side, PatternFill\n",
    "from PIL import Image\n",
    "from monday import MondayClient\n",
    "import datetime\n",
    "from datetime import timedelta"
   ]
  },
  {
   "cell_type": "code",
   "execution_count": 2,
   "metadata": {},
   "outputs": [],
   "source": [
    "import configparser \n",
    "config = configparser.ConfigParser()\n",
    "config.read('config.ini')\n",
    "api_key = config['DEFAULT']['API-Key']\n",
    "timesheet_date = config['DEFAULT']['Timesheet-Date']\n",
    "board_ids = config['DEFAULT']['Board-ID-List']\n",
    "date = config['DEFAULT']['Current-Date']"
   ]
  },
  {
   "cell_type": "markdown",
   "metadata": {},
   "source": [
    "# Supporting Functions"
   ]
  },
  {
   "cell_type": "code",
   "execution_count": 3,
   "metadata": {},
   "outputs": [],
   "source": [
    "def digit_or_dot(s):\n",
    "    return all(c.isdigit() or c == '.' for c in s)"
   ]
  },
  {
   "cell_type": "code",
   "execution_count": 4,
   "metadata": {},
   "outputs": [],
   "source": [
    "def get_congif_info(person):\n",
    "    surname = config[person]['Surname']\n",
    "    given_names = config[person]['Given-Names']\n",
    "    employee_number = config[person]['Employee-Number']\n",
    "#     account_code = config[person]['Account-Code']\n",
    "    dob = config[person]['Date-Of-Birth']\n",
    "    phone_number = config[person]['Phone-Number']\n",
    "    rate = config[person]['Rate']\n",
    "#     position_id = config[person]['Position-ID']\n",
    "#     primary_position = config[person]['Primary-Position']\n",
    "    pay_code = config[person]['Pay-Code']\n",
    "    \n",
    "    return surname,given_names,employee_number,dob,phone_number,rate,pay_code"
   ]
  },
  {
   "cell_type": "code",
   "execution_count": 5,
   "metadata": {},
   "outputs": [],
   "source": [
    "def create_cell(column, text, align):\n",
    "    sheet[\"{}{}\".format(column,row_num)] = text\n",
    "    sheet[\"{}{}\".format(column,row_num)].font = table_font\n",
    "    sheet[\"{}{}\".format(column,row_num)].border = thin_full_border\n",
    "    if align == 1:\n",
    "        sheet[\"{}{}\".format(column,row_num)].alignment = Alignment(wrap_text = True, horizontal='center', vertical='center')\n",
    "    else:\n",
    "        sheet[\"{}{}\".format(column,row_num)].alignment = Alignment(wrap_text = True, vertical='center')"
   ]
  },
  {
   "cell_type": "code",
   "execution_count": 6,
   "metadata": {},
   "outputs": [],
   "source": [
    "def create_excel():\n",
    "    workbook = Workbook()\n",
    "    sheet = workbook.active\n",
    "    \n",
    "    return workbook,sheet"
   ]
  },
  {
   "cell_type": "code",
   "execution_count": 7,
   "metadata": {},
   "outputs": [],
   "source": [
    "def set_column_width(sheet):\n",
    "    sheet.column_dimensions['A'].width = 14\n",
    "    sheet.column_dimensions['B'].width = 15.17\n",
    "    sheet.column_dimensions['C'].width = 14\n",
    "    sheet.column_dimensions['D'].width = 20\n",
    "    sheet.column_dimensions['E'].width = 20\n",
    "    sheet.column_dimensions['F'].width = 20\n",
    "    sheet.column_dimensions['G'].width = 20\n",
    "    sheet.column_dimensions['H'].width = 13\n",
    "    sheet.column_dimensions['I'].width = 13\n",
    "    sheet.column_dimensions['J'].width = 17.17\n",
    "    sheet.column_dimensions['K'].width = 11.5\n",
    "    sheet.column_dimensions['L'].width = 19.67\n",
    "    sheet.column_dimensions['M'].width = 21.83\n",
    "    sheet.column_dimensions['N'].width = 28.5\n",
    "    sheet.column_dimensions['O'].width = 28.5"
   ]
  },
  {
   "cell_type": "code",
   "execution_count": 8,
   "metadata": {},
   "outputs": [],
   "source": [
    "def add_logo(sheet):\n",
    "    width = 88\n",
    "    height = 182\n",
    "\n",
    "    img = Image.open('timesheet_logo.png')\n",
    "    img = img.resize((width,height),Image.NEAREST)\n",
    "    img.save('timesheet_logo.png')\n",
    "\n",
    "    img = openpyxl.drawing.image.Image('timesheet_logo.png')\n",
    "    sheet.add_image(img,'A1')"
   ]
  },
  {
   "cell_type": "code",
   "execution_count": 9,
   "metadata": {},
   "outputs": [],
   "source": [
    "def add_timesheet_info(sheet):\n",
    "    sheet[\"B1\"] = \"Timesheet Sessional Academic Staff\"\n",
    "    sheet[\"B1\"].font = Font(bold=True, underline=\"single\", name='Arial', size=16)\n",
    "\n",
    "    sheet[\"B2\"] = \"  Please  Note : \"\n",
    "    sheet[\"B2\"].font = Font(bold=True, underline=\"single\", name='Calibri (Body)', size=12)\n",
    "\n",
    "    sheet[\"B3\"] = \"\"\"\n",
    "     - This timesheet is used for sessional academic staff who work as Research Assistants, Project work or Claims that fall outside usual teaching activities logged via sessional Teaching /Marking spreadsheets.  \n",
    "     -  Please do not print out this T5 form, type in your timesheet details in this spreadsheet and save as “name.xlsx” file, attach it in your staff email and send to your supervisor for approval.\n",
    "     - Timesheet excel format files are to be submitted from your Swinburne staff email account to your Department Administrator/Managers for appropriate approvals by no later than 5pm Tuesday.\n",
    "     - Administrators/ Managers must email submit this approved Timesheets with the text in the subject: THE ATTACHED TIMESHEET IS APPROVED to fpp_sessionals@swin.edu.au by Wednesday 12 noon immediately following fortnight end date.  Please refer to paydates and deadline tab of this spreadsheet.\n",
    "     - Please fill out the correct employee number and job number failure to do that will cause the incorrect payment. Please refer to Help Notes tab of this spreadsheet or contact payroll for any queries about how to fill out this timesheet. \n",
    "    \"\"\"\n",
    "    sheet[\"B3\"].font = Font(name='Calibri (Body)', size=12)\n",
    "    sheet[\"B3\"].alignment = Alignment(wrap_text = True)\n",
    "    sheet.row_dimensions[3].height = 125\n",
    "\n",
    "    sheet.merge_cells('B3:O3')"
   ]
  },
  {
   "cell_type": "code",
   "execution_count": 10,
   "metadata": {},
   "outputs": [],
   "source": [
    "def add_column_names(sheet):\n",
    "    column_names = [\"Surname\", \"Given Names\", \"Employee Number\", \"Board Name\", \"Group Name\", \"Job Title\", \"JOB Number\",  \"Workday Position Number\", \"Workday Position Primary Flag (Y/N)\", \"Date\", \"Pay Code\", \"Total Hours (exc.meal break) or Units\", \"Rate\", \"Account Code\", \"Subject Code\"]\n",
    "\n",
    "    for col, val in enumerate(column_names, start=1):\n",
    "        sheet.cell(row=4, column=col).value = val\n",
    "        sheet.cell(row=4, column=col).border = thin_full_border\n",
    "        sheet.cell(row=4, column=col).font = Font(bold=True, name='Calibri (Body)', size=14)\n",
    "        sheet.cell(row=4, column=col).alignment = Alignment(wrap_text = True, horizontal='center', vertical='center')"
   ]
  },
  {
   "cell_type": "markdown",
   "metadata": {},
   "source": [
    "# Get Person List & Project Code List"
   ]
  },
  {
   "cell_type": "code",
   "execution_count": 11,
   "metadata": {},
   "outputs": [],
   "source": [
    "person_list = []\n",
    "project_code_list = {}\n",
    "for s in config.sections():\n",
    "    if digit_or_dot(s):\n",
    "        project_code_list[s] = {}\n",
    "    else:\n",
    "        person_list.append(s)"
   ]
  },
  {
   "cell_type": "code",
   "execution_count": 12,
   "metadata": {},
   "outputs": [],
   "source": [
    "for pc in project_code_list:\n",
    "    project_code_list[pc][\"name\"] = config[pc]['Name']\n",
    "    project_code_list[pc][\"department_name\"] = config[pc]['Department-Name']\n",
    "    project_code_list[pc][\"phone\"] = config[pc]['Phone']\n",
    "    project_code_list[pc][\"date\"] = config[pc]['Date']\n",
    "    project_code_list[pc][\"subject_code\"] = config[pc]['Subject-Code']\n",
    "    project_code_list[pc][\"board_ids\"] = []"
   ]
  },
  {
   "cell_type": "markdown",
   "metadata": {},
   "source": [
    "# Connect To Monday.com"
   ]
  },
  {
   "cell_type": "code",
   "execution_count": 13,
   "metadata": {},
   "outputs": [],
   "source": [
    "apiUrl = \"https://api.monday.com/v2\"\n",
    "headers = {\"Authorization\" : api_key}\n",
    "monday = MondayClient(api_key)"
   ]
  },
  {
   "cell_type": "markdown",
   "metadata": {},
   "source": [
    "# Get Board ID List"
   ]
  },
  {
   "cell_type": "code",
   "execution_count": 14,
   "metadata": {},
   "outputs": [],
   "source": [
    "board_id_list = []\n",
    "if board_ids:\n",
    "    for b in board_ids.split(\",\"):\n",
    "        board_id_list.append(b)\n",
    "else:\n",
    "    query = '{ boards {id}}'\n",
    "    data = {'query' : query}\n",
    "    r = requests.post(url=apiUrl, json=data, headers=headers)\n",
    "    for bd in r.json()[\"data\"][\"boards\"]:\n",
    "        board_id_list.append(bd[\"id\"])"
   ]
  },
  {
   "cell_type": "markdown",
   "metadata": {},
   "source": [
    "# Get Board.Group As Prefix For Job ID"
   ]
  },
  {
   "cell_type": "code",
   "execution_count": 15,
   "metadata": {},
   "outputs": [],
   "source": [
    "group_item_dict = {}\n",
    "\n",
    "for board_id in board_id_list:\n",
    "    board_query = '{{boards (ids: {}){{description name groups{{id}}}}}}'.format(board_id)\n",
    "    board_data = {'query' : board_query}\n",
    "    board_result = requests.post(url=apiUrl, json=board_data, headers=headers)\n",
    "    \n",
    "    board_name = board_result.json()[\"data\"][\"boards\"][0][\"name\"]\n",
    "    board_project_code = board_result.json()[\"data\"][\"boards\"][0][\"description\"].split(\"\\n\")[0].split(\": \")[1]\n",
    "        \n",
    "    project_code_list[board_project_code][\"board_ids\"].append(board_id)\n",
    "    \n",
    "    for g in board_result.json()[\"data\"][\"boards\"][0][\"groups\"]:\n",
    "        group_query = '{{boards (ids: {}){{groups(ids: {}) {{title items {{id}}}}}}}}'.format(board_id,g[\"id\"])\n",
    "        group_data = {'query' : group_query}\n",
    "        group_result = requests.post(url=apiUrl, json=group_data, headers=headers)\n",
    "        group_title = group_result.json()[\"data\"][\"boards\"][0][\"groups\"][0][\"title\"]\n",
    "        for i in group_result.json()[\"data\"][\"boards\"][0][\"groups\"][0][\"items\"]:\n",
    "            group_item_dict[i[\"id\"]] = [board_name,group_title]\n",
    "#             group_item_dict[i[\"id\"]] = \"{}\".format(group_title)\n",
    "#             group_item_dict[i[\"id\"]] = \"{}.{}\".format(board_name,group_title)"
   ]
  },
  {
   "cell_type": "markdown",
   "metadata": {},
   "source": [
    "# Setup Border & Font & Color"
   ]
  },
  {
   "cell_type": "code",
   "execution_count": 16,
   "metadata": {},
   "outputs": [],
   "source": [
    "thin_full_border = Border(left=Side(style='thin'), \n",
    "                     right=Side(style='thin'), \n",
    "                     top=Side(style='thin'), \n",
    "                     bottom=Side(style='thin'))\n",
    "\n",
    "thin_top_bot_border = Border(top=Side(style='thin'), \n",
    "                     bottom=Side(style='thin'))\n",
    "\n",
    "grey_fill = PatternFill(start_color='F2F2F2',\n",
    "                   end_color='F2F2F2',\n",
    "                   fill_type='solid')\n",
    "\n",
    "table_font = Font(bold=True, name='Arial', size=12)"
   ]
  },
  {
   "cell_type": "markdown",
   "metadata": {},
   "source": [
    "# Create Timesheet"
   ]
  },
  {
   "cell_type": "code",
   "execution_count": 17,
   "metadata": {},
   "outputs": [],
   "source": [
    "datetimeFormat = '%Y-%m-%d %H:%M:%S UTC'\n",
    "\n",
    "for p in person_list:\n",
    "    for pc in project_code_list:\n",
    "        if p.replace(\" \",\"_\") in config[pc]:\n",
    "            position_id,primary_position = config[pc][p.replace(\" \",\"_\")].split(\",\")\n",
    "            surname,given_names,employee_number,dob,phone_number,rate,pay_code = get_congif_info(p)\n",
    "            \n",
    "            # create new excel\n",
    "            workbook,sheet = create_excel()\n",
    "            \n",
    "            set_column_width(sheet)\n",
    "            add_logo(sheet)\n",
    "            add_timesheet_info(sheet)\n",
    "            add_column_names(sheet)\n",
    "            \n",
    "            # add tasks from Monday.com\n",
    "            row_num = 5\n",
    "            \n",
    "            for b in project_code_list[pc][\"board_ids\"]:\n",
    "                query = '{{items_by_column_values (board_id :{}, column_id: \"status\", column_value:\"{}\"){{id name column_values{{text title value}}}}}}'.format(b, \"Waiting for timesheet\")\n",
    "                data = {'query' : query}\n",
    "                \n",
    "                r = requests.post(url=apiUrl, json=data, headers=headers) # make request\n",
    "                \n",
    "                for v in r.json()[\"data\"][\"items_by_column_values\"]:\n",
    "                    workday_time_dict = {}\n",
    "                    if v[\"id\"] in group_item_dict:\n",
    "                        person_board_name = group_item_dict[v[\"id\"]][0]\n",
    "                        person_group_name = group_item_dict[v[\"id\"]][1]\n",
    "                        person_job_title = v[\"name\"]\n",
    "                        #job_number = \"{}.{}\".format(group_item_dict[v[\"id\"]],v[\"id\"])\n",
    "                        job_number = v[\"id\"]\n",
    "                        ignore = 1\n",
    "                        \n",
    "                        # check if person in the group\n",
    "                        for cv in v[\"column_values\"]:\n",
    "                            if cv[\"title\"] == \"Person\":\n",
    "                                # only group \"meeting\" OR \"meetings\" allows multiple people\n",
    "                                if group_item_dict[job_number][1].lower() in {\"meeting\",\"meetings\"}:\n",
    "                                    if p in cv[\"text\"]:\n",
    "                                        ignore = 0\n",
    "                                    else:\n",
    "                                        ignore = 1\n",
    "                                        continue\n",
    "                                else:\n",
    "                                    if \",\" in cv[\"text\"]:\n",
    "                                        print(\"----------------------------------\")\n",
    "                                        print(\"Error Group Name / Job Number: {} / {}\".format(group_item_dict[job_number][1],job_number))\n",
    "                                        print(\"Assigned to persons: {}\".format(cv[\"text\"]))\n",
    "                                        print(\"Error : multiple persons are assigned to same task & it is not under meeting(s)\")\n",
    "                                        continue\n",
    "                                    else:\n",
    "                                        if cv[\"text\"] == p:\n",
    "                                            ignore = 0\n",
    "                                        else:\n",
    "                                            ignore = 1\n",
    "                                            continue\n",
    "                        \n",
    "                        if ignore == 0:\n",
    "                            for cv in v[\"column_values\"]:\n",
    "                                if cv[\"title\"] == \"Time Tracking\":\n",
    "                                    time_tracking = cv[\"text\"]\n",
    "                                    if time_tracking == \"\":\n",
    "                                        time_used = 0\n",
    "                                    else:\n",
    "                                        for av in json.loads(cv[\"value\"])[\"additional_value\"]:\n",
    "                                            # convert date string to datetime\n",
    "                                            start_at = datetime.datetime.strptime(av[\"started_at\"], datetimeFormat)\n",
    "                                            end_at = datetime.datetime.strptime(av[\"ended_at\"], datetimeFormat)\n",
    "\n",
    "                                            # change to correct time zone\n",
    "                                            start_at += datetime.timedelta(hours=11)\n",
    "                                            end_at += datetime.timedelta(hours=11)\n",
    "\n",
    "                                            work_day = str(end_at)[:10]\n",
    "\n",
    "                                            # calculate time range\n",
    "                                            diff = end_at - start_at\n",
    "                                            time_used = round(diff.seconds/3600, 2)\n",
    "\n",
    "                                            # aggregate by work day\n",
    "                                            if work_day in workday_time_dict:\n",
    "                                                workday_time_dict[work_day] += time_used\n",
    "                                            else:\n",
    "                                                workday_time_dict[work_day] = time_used\n",
    "                            \n",
    "                            # change status to \"Done\"\n",
    "                            monday.items.change_item_value(b, int(v[\"id\"]), \"status\", {\"index\": 1})\n",
    "\n",
    "                            subject_code = project_code_list[pc][\"subject_code\"]\n",
    "                            for workday in workday_time_dict:\n",
    "                                row_list = [surname, given_names, employee_number, person_board_name, person_group_name, person_job_title, job_number, position_id, primary_position, workday, pay_code, workday_time_dict[workday], rate, pc, subject_code]\n",
    "                                sheet.row_dimensions[row_num].height = 25\n",
    "\n",
    "                                for col, val in enumerate(row_list, start=1):\n",
    "                                    sheet.cell(row=row_num, column=col).value = val\n",
    "                                    sheet.cell(row=row_num, column=col).border = thin_full_border\n",
    "                                    sheet.cell(row=row_num, column=col).fill = grey_fill\n",
    "\n",
    "                                row_num += 1\n",
    "                        else:\n",
    "                            continue\n",
    "                        \n",
    "                    else:\n",
    "                        print(\"Missing item id {} in board id {}\".format(v[\"id\"],b))\n",
    "                \n",
    "            if row_num > 5:\n",
    "                # add_personal_info\n",
    "                sheet.row_dimensions[row_num].height = 25\n",
    "                sheet[\"A{}\".format(row_num)] = \"AUTHORISATION:\"\n",
    "                sheet[\"A{}\".format(row_num)].font = table_font\n",
    "                sheet[\"A{}\".format(row_num)].border = thin_top_bot_border\n",
    "                sheet.merge_cells('A{}:O{}'.format(row_num,row_num))\n",
    "\n",
    "                row_num += 1\n",
    "                sheet.row_dimensions[row_num].height = 25\n",
    "                sheet[\"A{}\".format(row_num)] = \"Claimant:\"\n",
    "                sheet[\"A{}\".format(row_num)].font = table_font\n",
    "                sheet[\"A{}\".format(row_num)].border = thin_full_border\n",
    "                sheet[\"A{}\".format(row_num)].alignment = Alignment(wrap_text = True, vertical='center')\n",
    "                sheet[\"I{}\".format(row_num)] = \"Authorisation :\"\n",
    "                sheet[\"I{}\".format(row_num)].font = table_font\n",
    "                sheet[\"I{}\".format(row_num)].border = thin_full_border\n",
    "                sheet[\"I{}\".format(row_num)].alignment = Alignment(wrap_text = True, vertical='center')\n",
    "                sheet.merge_cells('A{}:H{}'.format(row_num,row_num))\n",
    "                sheet.merge_cells('I{}:O{}'.format(row_num,row_num))\n",
    "\n",
    "                row_num += 1\n",
    "                sheet.row_dimensions[row_num].height = 25\n",
    "                create_cell(\"A\", \"Name:\", 0)\n",
    "\n",
    "                create_cell(\"B\", \"{} {}\".format(given_names, surname), 1)\n",
    "                sheet.merge_cells('B{}:D{}'.format(row_num,row_num))\n",
    "\n",
    "                create_cell(\"E\", \"DOB:\", 0)\n",
    "\n",
    "                create_cell(\"F\", dob, 1)\n",
    "                sheet.merge_cells('F{}:H{}'.format(row_num,row_num))\n",
    "\n",
    "                create_cell(\"I\", \"Name:\", 0)\n",
    "                create_cell(\"J\", project_code_list[pc][\"name\"], 1)\n",
    "                sheet.merge_cells('J{}:K{}'.format(row_num,row_num))\n",
    "                create_cell(\"L\", \"Department Name:\", 0)\n",
    "                create_cell(\"M\", project_code_list[pc][\"department_name\"], 1)\n",
    "                sheet.merge_cells('M{}:O{}'.format(row_num,row_num))\n",
    "\n",
    "                row_num += 1\n",
    "                sheet.row_dimensions[row_num].height = 25\n",
    "                create_cell(\"A\", \"Phone:\", 0)\n",
    "\n",
    "                create_cell(\"B\", phone_number, 1)\n",
    "                sheet.merge_cells('B{}:D{}'.format(row_num,row_num))\n",
    "\n",
    "                create_cell(\"E\", \"Date:\", 0)\n",
    "\n",
    "                create_cell(\"F\", date, 1)\n",
    "                sheet.merge_cells('F{}:H{}'.format(row_num,row_num))\n",
    "\n",
    "                create_cell(\"I\", \"Phone:\", 0)\n",
    "                create_cell(\"J\", project_code_list[pc][\"phone\"], 1)\n",
    "                sheet.merge_cells('J{}:K{}'.format(row_num,row_num))\n",
    "                create_cell(\"L\", \"Date:\", 0)\n",
    "                create_cell(\"M\", project_code_list[pc][\"date\"], 1)\n",
    "                sheet.merge_cells('M{}:O{}'.format(row_num,row_num))\n",
    "\n",
    "                sheet.title = 'Timesheet'\n",
    "                #save changes in excel\n",
    "                workbook.save(filename=\"{}_{}_{}({}).xlsx\".format(given_names,surname,timesheet_date.replace('-','_'),pc)) \n",
    "            else:\n",
    "                continue\n",
    "        else:\n",
    "            continue"
   ]
  },
  {
   "cell_type": "code",
   "execution_count": null,
   "metadata": {},
   "outputs": [],
   "source": []
  }
 ],
 "metadata": {
  "kernelspec": {
   "display_name": "Python 3",
   "language": "python",
   "name": "python3"
  },
  "language_info": {
   "codemirror_mode": {
    "name": "ipython",
    "version": 3
   },
   "file_extension": ".py",
   "mimetype": "text/x-python",
   "name": "python",
   "nbconvert_exporter": "python",
   "pygments_lexer": "ipython3",
   "version": "3.6.6"
  }
 },
 "nbformat": 4,
 "nbformat_minor": 2
}
